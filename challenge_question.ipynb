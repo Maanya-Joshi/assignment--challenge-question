{
  "cells": [
    {
      "cell_type": "markdown",
      "metadata": {
        "id": "view-in-github",
        "colab_type": "text"
      },
      "source": [
        "<a href=\"https://colab.research.google.com/github/Maanya-Joshi/assignment--challenge-question/blob/main/challenge_question.ipynb\" target=\"_parent\"><img src=\"https://colab.research.google.com/assets/colab-badge.svg\" alt=\"Open In Colab\"/></a>"
      ]
    },
    {
      "cell_type": "markdown",
      "source": [
        "challenge question:"
      ],
      "metadata": {
        "id": "RPWeaxucjp_S"
      }
    },
    {
      "cell_type": "code",
      "source": [
        "L= [\"Ram\",1,\"Shyam\",2,\"Aman\",3]\n",
        "print (L)\n",
        "for i in L:\n",
        "  LI = []\n",
        "  LS=[]\n",
        "  for i in L:\n",
        "      if type(i) is int:\n",
        "          LI.append(i)\n",
        "      else:\n",
        "          LS.append(i)\n",
        "LI.sort()\n",
        "LS.sort()\n",
        "LI.extend(LS)\n",
        "print (LI)"
      ],
      "metadata": {
        "id": "lGNv1kwUjs3t",
        "colab": {
          "base_uri": "https://localhost:8080/"
        },
        "outputId": "df36a3cb-e656-474c-e0dc-f412145c1c79"
      },
      "execution_count": 5,
      "outputs": [
        {
          "output_type": "stream",
          "name": "stdout",
          "text": [
            "['Ram', 1, 'Shyam', 2, 'Aman', 3]\n",
            "[1, 2, 3, 'Aman', 'Ram', 'Shyam']\n"
          ]
        }
      ]
    }
  ],
  "metadata": {
    "colab": {
      "toc_visible": true,
      "provenance": [],
      "include_colab_link": true
    },
    "kernelspec": {
      "display_name": "Python 3",
      "name": "python3"
    }
  },
  "nbformat": 4,
  "nbformat_minor": 0
}